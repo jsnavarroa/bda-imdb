{
 "cells": [
  {
   "cell_type": "markdown",
   "metadata": {},
   "source": [
    "# Load MongoDB"
   ]
  },
  {
   "cell_type": "markdown",
   "metadata": {},
   "source": [
    "## Name basics"
   ]
  },
  {
   "cell_type": "code",
   "execution_count": 7,
   "metadata": {},
   "outputs": [
    {
     "name": "stdout",
     "output_type": "stream",
     "text": [
      "MongoDB shell version v4.0.6\n",
      "connecting to: mongodb://127.0.0.1:27017/imdb?gssapiServiceName=mongodb\n",
      "Implicit session: session { \"id\" : UUID(\"63eb75fc-82e0-458b-a33c-c8e9841c27d2\") }\n",
      "MongoDB server version: 4.0.6\n",
      "{\n",
      "\t\"createdCollectionAutomatically\" : false,\n",
      "\t\"numIndexesBefore\" : 1,\n",
      "\t\"numIndexesAfter\" : 2,\n",
      "\t\"ok\" : 1\n",
      "}\n",
      "1 minutes and 8 seconds elapsed.\n"
     ]
    }
   ],
   "source": [
    "%%bash\n",
    "\n",
    "SECONDS=0\n",
    "\n",
    "mongoimport --quiet --db imdb --collection people --drop \\\n",
    "    --type tsv --file ./mongodb/name.basics.tsv --headerline\n",
    "mongo --quiet imdb --eval \"db.people.createIndex({\\\"nconst\\\":1})\"\n",
    "\n",
    "duration=$SECONDS\n",
    "echo \"$(($duration / 60)) minutes and $(($duration % 60)) seconds elapsed.\""
   ]
  },
  {
   "cell_type": "markdown",
   "metadata": {},
   "source": [
    "## Title basics"
   ]
  },
  {
   "cell_type": "code",
   "execution_count": 14,
   "metadata": {},
   "outputs": [
    {
     "name": "stdout",
     "output_type": "stream",
     "text": [
      "{\n",
      "\t\"createdCollectionAutomatically\" : false,\n",
      "\t\"numIndexesBefore\" : 1,\n",
      "\t\"numIndexesAfter\" : 2,\n",
      "\t\"ok\" : 1\n",
      "}\n",
      "4 minutes and 4 seconds elapsed.\n"
     ]
    }
   ],
   "source": [
    "%%bash\n",
    "\n",
    "SECONDS=0\n",
    "\n",
    "mongoimport --quiet --db imdb --collection titles --drop \\\n",
    "    --type json --file ./mongodb/imdb.titles.json\n",
    "    \n",
    "mongo --quiet imdb --eval \"db.titles.createIndex({\\\"tconst\\\":1})\"\n",
    "\n",
    "duration=$SECONDS\n",
    "echo \"$(($duration / 60)) minutes and $(($duration % 60)) seconds elapsed.\""
   ]
  },
  {
   "cell_type": "markdown",
   "metadata": {},
   "source": [
    "## Title episodes"
   ]
  },
  {
   "cell_type": "code",
   "execution_count": 8,
   "metadata": {},
   "outputs": [
    {
     "name": "stdout",
     "output_type": "stream",
     "text": [
      "MongoDB shell version v4.0.6\n",
      "connecting to: mongodb://127.0.0.1:27017/imdb?gssapiServiceName=mongodb\n",
      "Implicit session: session { \"id\" : UUID(\"7b80e9bd-9e8c-4bb0-8f0c-965d51252c1d\") }\n",
      "MongoDB server version: 4.0.6\n",
      "{\n",
      "\t\"createdCollectionAutomatically\" : false,\n",
      "\t\"numIndexesBefore\" : 1,\n",
      "\t\"numIndexesAfter\" : 2,\n",
      "\t\"ok\" : 1\n",
      "}\n",
      "0 minutes and 26 seconds elapsed.\n"
     ]
    }
   ],
   "source": [
    "%%bash\n",
    "\n",
    "SECONDS=0\n",
    "\n",
    "mongoimport --quiet --db imdb --collection episodes --drop \\\n",
    "    --type tsv --file ./mongodb/title.episode.tsv --headerline\n",
    "    \n",
    "mongo --quiet imdb --eval \"db.episodes.createIndex({\\\"tconst\\\":1})\"\n",
    "\n",
    "duration=$SECONDS\n",
    "echo \"$(($duration / 60)) minutes and $(($duration % 60)) seconds elapsed.\""
   ]
  },
  {
   "cell_type": "markdown",
   "metadata": {},
   "source": [
    "## Title principals"
   ]
  },
  {
   "cell_type": "code",
   "execution_count": 9,
   "metadata": {},
   "outputs": [
    {
     "name": "stdout",
     "output_type": "stream",
     "text": [
      "MongoDB shell version v4.0.6\n",
      "connecting to: mongodb://127.0.0.1:27017/imdb?gssapiServiceName=mongodb\n",
      "Implicit session: session { \"id\" : UUID(\"280e667c-9996-4098-9707-3a36d8a50b45\") }\n",
      "MongoDB server version: 4.0.6\n",
      "{\n",
      "\t\"createdCollectionAutomatically\" : false,\n",
      "\t\"numIndexesBefore\" : 1,\n",
      "\t\"numIndexesAfter\" : 2,\n",
      "\t\"ok\" : 1\n",
      "}\n",
      "MongoDB shell version v4.0.6\n",
      "connecting to: mongodb://127.0.0.1:27017/imdb?gssapiServiceName=mongodb\n",
      "Implicit session: session { \"id\" : UUID(\"b10a086c-647d-4172-9139-e1b93bc77a95\") }\n",
      "MongoDB server version: 4.0.6\n",
      "{\n",
      "\t\"createdCollectionAutomatically\" : false,\n",
      "\t\"numIndexesBefore\" : 2,\n",
      "\t\"numIndexesAfter\" : 3,\n",
      "\t\"ok\" : 1\n",
      "}\n",
      "5 minutes and 56 seconds elapsed.\n"
     ]
    }
   ],
   "source": [
    "%%bash\n",
    "\n",
    "SECONDS=0\n",
    "\n",
    "mongoimport --quiet --db imdb --collection principals --drop \\\n",
    "    --type tsv --file ./mongodb/title.principals.tsv --headerline\n",
    "    \n",
    "mongo --quiet imdb --eval \"db.principals.createIndex({\\\"nconst\\\":1})\"\n",
    "mongo --quiet imdb --eval \"db.principals.createIndex({\\\"tconst\\\":1})\"\n",
    "\n",
    "duration=$SECONDS\n",
    "echo \"$(($duration / 60)) minutes and $(($duration % 60)) seconds elapsed.\""
   ]
  }
 ],
 "metadata": {
  "kernelspec": {
   "display_name": "Python 3",
   "language": "python",
   "name": "python3"
  },
  "language_info": {
   "codemirror_mode": {
    "name": "ipython",
    "version": 3
   },
   "file_extension": ".py",
   "mimetype": "text/x-python",
   "name": "python",
   "nbconvert_exporter": "python",
   "pygments_lexer": "ipython3",
   "version": "3.6.8"
  },
  "toc": {
   "base_numbering": 1,
   "nav_menu": {},
   "number_sections": false,
   "sideBar": true,
   "skip_h1_title": false,
   "title_cell": "Table of Contents",
   "title_sidebar": "Contents",
   "toc_cell": false,
   "toc_position": {
    "height": "calc(100% - 180px)",
    "left": "10px",
    "top": "150px",
    "width": "212px"
   },
   "toc_section_display": true,
   "toc_window_display": true
  }
 },
 "nbformat": 4,
 "nbformat_minor": 2
}
